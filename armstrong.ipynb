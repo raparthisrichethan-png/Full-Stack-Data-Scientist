{
 "cells": [
  {
   "cell_type": "code",
   "execution_count": 5,
   "metadata": {},
   "outputs": [
    {
     "name": "stdout",
     "output_type": "stream",
     "text": [
      "armstrong\n"
     ]
    }
   ],
   "source": [
    "n=int(input())\n",
    "temp=n\n",
    "k=len(str(n))\n",
    "s=0\n",
    "while n!=0:\n",
    "    r=n%10\n",
    "    s+=r**k\n",
    "    n=n//10\n",
    "if s==temp:\n",
    "    print('armstrong')\n",
    "else:\n",
    "    print(\"not\")"
   ]
  }
 ],
 "metadata": {
  "kernelspec": {
   "display_name": "Python 3",
   "language": "python",
   "name": "python3"
  },
  "language_info": {
   "codemirror_mode": {
    "name": "ipython",
    "version": 3
   },
   "file_extension": ".py",
   "mimetype": "text/x-python",
   "name": "python",
   "nbconvert_exporter": "python",
   "pygments_lexer": "ipython3",
   "version": "3.11.0"
  }
 },
 "nbformat": 4,
 "nbformat_minor": 2
}
