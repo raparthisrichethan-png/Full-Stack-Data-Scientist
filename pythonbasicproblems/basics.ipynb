{
 "cells": [
  {
   "cell_type": "code",
   "execution_count": 8,
   "id": "0a6cc4f0",
   "metadata": {},
   "outputs": [
    {
     "name": "stdout",
     "output_type": "stream",
     "text": [
      "not a prime\n"
     ]
    }
   ],
   "source": [
    "#prime number\n",
    "n=int(input())\n",
    "c=0\n",
    "for i in range(2,n):\n",
    "    if n%i==0:\n",
    "        c+=1\n",
    "if c==1:\n",
    "    print(\"prime\")\n",
    "else:\n",
    "    print(\"not a prime\")"
   ]
  },
  {
   "cell_type": "code",
   "execution_count": 11,
   "id": "df9adc03",
   "metadata": {},
   "outputs": [
    {
     "name": "stdout",
     "output_type": "stream",
     "text": [
      "5\n"
     ]
    }
   ],
   "source": [
    "#second largest\n",
    "l=list(map(int,input().split()))\n",
    "if len(l)<2:\n",
    "    print(\"no second number\")\n",
    "else:\n",
    "    print(sorted(set(l))[-2])\n"
   ]
  },
  {
   "cell_type": "code",
   "execution_count": 12,
   "id": "74fe43ef",
   "metadata": {},
   "outputs": [
    {
     "name": "stdout",
     "output_type": "stream",
     "text": [
      "650\n"
     ]
    }
   ],
   "source": [
    "#sum of even's from 1 to 50\n",
    "s=0\n",
    "for i in range(0,51,2):\n",
    "    s+=i\n",
    "print(s)"
   ]
  },
  {
   "cell_type": "code",
   "execution_count": 15,
   "id": "671afd77",
   "metadata": {},
   "outputs": [
    {
     "name": "stdout",
     "output_type": "stream",
     "text": [
      "7 4\n"
     ]
    }
   ],
   "source": [
    "#count upper and lower case\n",
    "s=input()\n",
    "u=0\n",
    "l=0\n",
    "for i in s:\n",
    "    if i.islower():\n",
    "        u+=1\n",
    "    elif i.isupper():\n",
    "        l+=1\n",
    "print(u,l)\n"
   ]
  },
  {
   "cell_type": "code",
   "execution_count": 18,
   "id": "d22265d0",
   "metadata": {},
   "outputs": [
    {
     "name": "stdout",
     "output_type": "stream",
     "text": [
      "0 1 1 2 3 5 "
     ]
    }
   ],
   "source": [
    "#fibonacci series\n",
    "n=int(input())\n",
    "a=0\n",
    "b=1\n",
    "next=a+b\n",
    "print(a,b,end=' ')\n",
    "for i in range(2,n):\n",
    "    print(next,end=' ')\n",
    "    a=b\n",
    "    b=next\n",
    "    next=a+b"
   ]
  },
  {
   "cell_type": "code",
   "execution_count": null,
   "id": "a008db32",
   "metadata": {},
   "outputs": [
    {
     "name": "stdout",
     "output_type": "stream",
     "text": [
      "True\n"
     ]
    }
   ],
   "source": [
    "#anagrams or not\n",
    "a,b=map(str,input().split())\n",
    "if sorted(a)==sorted(b):\n",
    "    print(\"True\")\n",
    "else:\n",
    "    print(\"False\")"
   ]
  },
  {
   "cell_type": "code",
   "execution_count": 23,
   "id": "1ab57f43",
   "metadata": {},
   "outputs": [
    {
     "name": "stdout",
     "output_type": "stream",
     "text": [
      "perfect\n"
     ]
    }
   ],
   "source": [
    "#perfect (sum of divisors = number)\n",
    "n=int(input())\n",
    "s=0\n",
    "for i in range(1,n):\n",
    "    if n%i==0:\n",
    "        s+=i\n",
    "if s==n:\n",
    "    print('perfect')\n",
    "else:\n",
    "    print('not a perfect')\n",
    "    "
   ]
  },
  {
   "cell_type": "code",
   "execution_count": 29,
   "id": "9360237e",
   "metadata": {},
   "outputs": [
    {
     "name": "stdout",
     "output_type": "stream",
     "text": [
      "C\n"
     ]
    }
   ],
   "source": [
    "#calculate grade\n",
    "l=list(map(int,input().split()))\n",
    "p=sum(l)/5\n",
    "if p>=90:\n",
    "    print('A')\n",
    "elif p>=75:\n",
    "    print('B')\n",
    "elif p>=50:\n",
    "    print(\"C\")\n",
    "else:\n",
    "    print(\"Fail\")"
   ]
  },
  {
   "cell_type": "code",
   "execution_count": 31,
   "id": "cedb9c70",
   "metadata": {},
   "outputs": [
    {
     "name": "stdout",
     "output_type": "stream",
     "text": [
      "Prime numbers from 1 to 100 are:\n",
      "2 3 5 7 11 13 17 19 23 29 31 37 41 43 47 53 59 61 67 71 73 79 83 89 97 "
     ]
    }
   ],
   "source": [
    "def is_prime(num):\n",
    "    if num < 2:\n",
    "        return False\n",
    "    for i in range(2, int(num ** 0.5) + 1):\n",
    "        if num % i == 0:\n",
    "            return False\n",
    "    return True\n",
    "# Print prime numbers from 1 to 100\n",
    "print(\"Prime numbers from 1 to 100 are:\")\n",
    "for i in range(1, 101):\n",
    "    if is_prime(i):\n",
    "        print(i, end=' ')"
   ]
  },
  {
   "cell_type": "code",
   "execution_count": 34,
   "id": "1e3ba16d",
   "metadata": {},
   "outputs": [
    {
     "name": "stdout",
     "output_type": "stream",
     "text": [
      "2\n"
     ]
    }
   ],
   "source": [
    "#no.of words\n",
    "s = input().strip()\n",
    "c = 0\n",
    "for i in range(1, len(s)):\n",
    "    if s[i] == ' ' and s[i-1] != ' ':\n",
    "        c += 1\n",
    "if s:\n",
    "    print(c + 1)\n",
    "else:\n",
    "    print(0)\n"
   ]
  },
  {
   "cell_type": "code",
   "execution_count": null,
   "id": "813b5b75",
   "metadata": {},
   "outputs": [
    {
     "name": "stdout",
     "output_type": "stream",
     "text": [
      "0\n",
      "19000\n"
     ]
    }
   ],
   "source": [
    "#Movie ticket Discount\n",
    "price = int(input())\n",
    "age = int(input())\n",
    "student = input().lower()\n",
    "if student == 'yes':\n",
    "    discount = 0.20 * price\n",
    "elif age >= 60:\n",
    "    discount = 0.10 * price\n",
    "else:\n",
    "    discount = 0\n",
    "final_price = price - discount\n",
    "print(discount)\n",
    "print(final_price)\n"
   ]
  },
  {
   "cell_type": "code",
   "execution_count": 3,
   "id": "6971bdae",
   "metadata": {},
   "outputs": [
    {
     "name": "stdout",
     "output_type": "stream",
     "text": [
      "550\n"
     ]
    }
   ],
   "source": [
    "#delivery charges\n",
    "p=int(input())\n",
    "if p>500:\n",
    "    print(p)\n",
    "else:\n",
    "    print(p+50)"
   ]
  },
  {
   "cell_type": "code",
   "execution_count": 1,
   "id": "54577efd",
   "metadata": {},
   "outputs": [
    {
     "name": "stdout",
     "output_type": "stream",
     "text": [
      "Grade: C\n"
     ]
    }
   ],
   "source": [
    "#Marks Grading System\n",
    "marks = int(input(\"Enter marks: \"))\n",
    "if 90 <= marks <= 100:\n",
    "    grade = \"A\"\n",
    "elif 75 <= marks < 90:\n",
    "    grade = \"B\"\n",
    "elif 50 <= marks < 75:\n",
    "    grade = \"C\"\n",
    "else:\n",
    "    grade = \"Fail\"\n",
    "print(\"Grade:\", grade)"
   ]
  },
  {
   "cell_type": "code",
   "execution_count": null,
   "id": "f0ae8d21",
   "metadata": {},
   "outputs": [
    {
     "name": "stdout",
     "output_type": "stream",
     "text": [
      "Tip: 298.2\n"
     ]
    }
   ],
   "source": [
    "#tip calculator\n",
    "bill = float(input(\"Enter bill amount: \"))\n",
    "if bill < 500:\n",
    "    tip = bill * 0.05\n",
    "elif bill <= 1000:\n",
    "    tip = bill * 0.10\n",
    "else:\n",
    "    tip = bill * 0.15\n",
    "print(\"Tip:\", tip)"
   ]
  },
  {
   "cell_type": "code",
   "execution_count": 3,
   "id": "47940893",
   "metadata": {},
   "outputs": [
    {
     "name": "stdout",
     "output_type": "stream",
     "text": [
      "Cheapest option: 4700\n"
     ]
    }
   ],
   "source": [
    "#cheapest\n",
    "months = int(input(\"Enter membership period (months): \"))\n",
    "cost1 = months * 500\n",
    "cost2 = (months // 6) * 2700 + (months % 6) * 500\n",
    "cost3 = (months // 12) * 5000 + (months % 12) * 500\n",
    "print(\"Cheapest option:\", min(cost1, cost2, cost3))"
   ]
  },
  {
   "cell_type": "code",
   "execution_count": null,
   "id": "4563cb70",
   "metadata": {},
   "outputs": [
    {
     "name": "stdout",
     "output_type": "stream",
     "text": [
      "Not Eligible\n"
     ]
    }
   ],
   "source": [
    "#student eligibility\n",
    "total = int(input(\"Enter total classes: \"))\n",
    "attended = int(input(\"Enter attended classes: \"))\n",
    "attendance = (attended / total) * 100\n",
    "if attendance >= 75:\n",
    "    print(\"Eligible\")\n",
    "else:\n",
    "    print(\"Not Eligible\")"
   ]
  },
  {
   "cell_type": "code",
   "execution_count": 5,
   "id": "1a18f7c7",
   "metadata": {},
   "outputs": [
    {
     "name": "stdout",
     "output_type": "stream",
     "text": [
      "Transaction Failed\n"
     ]
    }
   ],
   "source": [
    "#atm\n",
    "amount = int(input(\"Enter withdrawal amount: \"))\n",
    "if amount % 100 == 0:\n",
    "    print(\"Transaction Successful\")\n",
    "else:\n",
    "    print(\"Transaction Failed\")"
   ]
  },
  {
   "cell_type": "code",
   "execution_count": 6,
   "id": "1c7904c7",
   "metadata": {},
   "outputs": [
    {
     "name": "stdout",
     "output_type": "stream",
     "text": [
      "Nice weather, go out!\n"
     ]
    }
   ],
   "source": [
    "#weather\n",
    "temp = int(input(\"Enter temperature: \"))\n",
    "if temp > 35:\n",
    "    print(\"Too hot, stay indoors!\")\n",
    "elif 20 <= temp <= 35:\n",
    "    print(\"Nice weather, go out!\")\n",
    "else:\n",
    "    print(\"It’s cold, wear warm clothes!\")"
   ]
  },
  {
   "cell_type": "code",
   "execution_count": 7,
   "id": "a61325ce",
   "metadata": {},
   "outputs": [
    {
     "name": "stdout",
     "output_type": "stream",
     "text": [
      "Fine: 10\n"
     ]
    }
   ],
   "source": [
    "#fine calculator\n",
    "days = int(input(\"Enter late days: \"))\n",
    "if 1 <= days <= 5:\n",
    "    fine = 10\n",
    "elif 6 <= days <= 10:\n",
    "    fine = 50\n",
    "elif days > 10:\n",
    "    fine = 100\n",
    "else:\n",
    "    fine = 0\n",
    "print(\"Fine:\", fine)"
   ]
  },
  {
   "cell_type": "code",
   "execution_count": 8,
   "id": "b36bc2d8",
   "metadata": {},
   "outputs": [
    {
     "name": "stdout",
     "output_type": "stream",
     "text": [
      "Bill amount: 25\n"
     ]
    }
   ],
   "source": [
    "#bill calculator\n",
    "units = int(input(\"Enter units consumed: \"))\n",
    "if units <= 100:\n",
    "    bill = units * 5\n",
    "elif units <= 200:\n",
    "    bill = (100 * 5) + (units - 100) * 7\n",
    "else:\n",
    "    bill = (100 * 5) + (100 * 7) + (units - 200) * 10\n",
    "print(\"Bill amount:\", bill)"
   ]
  }
 ],
 "metadata": {
  "kernelspec": {
   "display_name": "Python 3",
   "language": "python",
   "name": "python3"
  },
  "language_info": {
   "codemirror_mode": {
    "name": "ipython",
    "version": 3
   },
   "file_extension": ".py",
   "mimetype": "text/x-python",
   "name": "python",
   "nbconvert_exporter": "python",
   "pygments_lexer": "ipython3",
   "version": "3.11.0"
  }
 },
 "nbformat": 4,
 "nbformat_minor": 5
}
