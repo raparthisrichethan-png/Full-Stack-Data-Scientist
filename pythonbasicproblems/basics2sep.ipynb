{
 "cells": [
  {
   "cell_type": "code",
   "execution_count": 7,
   "id": "0f86a93c",
   "metadata": {},
   "outputs": [
    {
     "name": "stdout",
     "output_type": "stream",
     "text": [
      "310\n"
     ]
    }
   ],
   "source": [
    "total=0\n",
    "for i in range(3):\n",
    "    a=int(input(\"Price:\"))\n",
    "    b=int(input(\",Quantity:\"))\n",
    "    total+=(a*b)\n",
    "print(total)\n"
   ]
  },
  {
   "cell_type": "code",
   "execution_count": 9,
   "id": "05142d67",
   "metadata": {},
   "outputs": [
    {
     "name": "stdout",
     "output_type": "stream",
     "text": [
      "Addition  19\n",
      "Subtraction 11\n",
      "multiplication  60\n",
      "Divison  3.75\n",
      "Modulus  3\n"
     ]
    }
   ],
   "source": [
    "a=int(input(\"Enter first number\"))\n",
    "b=int(input(\"Enter Second number\"))\n",
    "print(\"Addition \",(a+b))\n",
    "print(\"Subtraction\",(a-b))\n",
    "print(\"multiplication \",(a*b))\n",
    "print(\"Divison \",(a/b))\n",
    "print(\"Modulus \",(a%b))"
   ]
  },
  {
   "cell_type": "code",
   "execution_count": 17,
   "id": "da2198a5",
   "metadata": {},
   "outputs": [
    {
     "name": "stdout",
     "output_type": "stream",
     "text": [
      "A\n"
     ]
    }
   ],
   "source": [
    "#(Rules: >=90 → A+, 80–89 → A, 70–79 → B, 60–69 → C, <60 → Fail)\n",
    "n=int(input(\"Enter marks\"))\n",
    "if n>=90:\n",
    "    print('A+')\n",
    "elif n>=80 and n<=89:\n",
    "    print('A')\n",
    "elif n>=70 and n<=79:\n",
    "    print('B')\n",
    "elif n>=60 and n<=69:\n",
    "    print('C')\n",
    "else:\n",
    "    print('Fail')"
   ]
  },
  {
   "cell_type": "code",
   "execution_count": 18,
   "id": "f1a069c0",
   "metadata": {},
   "outputs": [
    {
     "name": "stdout",
     "output_type": "stream",
     "text": [
      "Highest marks  90\n",
      "Lowest marks  45\n",
      "avg  71.4\n"
     ]
    }
   ],
   "source": [
    "#display highest,lowest,avg\n",
    "l=list(map(int,input().split()))\n",
    "print('Highest marks ',(max(l)))\n",
    "print('Lowest marks ',min(l))\n",
    "print('avg ',(sum(l)/len(l)))"
   ]
  },
  {
   "cell_type": "code",
   "execution_count": 22,
   "id": "f3cd2aca",
   "metadata": {},
   "outputs": [
    {
     "name": "stdout",
     "output_type": "stream",
     "text": [
      "9123456780\n"
     ]
    }
   ],
   "source": [
    "Phonebook = {\"Suhel\": 9876543210, \"Ravi\": 9123456780, \"Anita\": 9988776655}\n",
    "s=input(\"search name\")\n",
    "if s in Phonebook:\n",
    "    print(Phonebook[s])\n",
    "else:\n",
    "    print(\"Not found\")"
   ]
  },
  {
   "cell_type": "code",
   "execution_count": 24,
   "id": "40b446c5",
   "metadata": {},
   "outputs": [
    {
     "name": "stdout",
     "output_type": "stream",
     "text": [
      "words 3\n",
      "char 17\n",
      "vowels 6\n"
     ]
    }
   ],
   "source": [
    "#count of words letters vowels\n",
    "s1=input()\n",
    "v=0\n",
    "s=0\n",
    "w=0\n",
    "for i in s1:\n",
    "    if i in 'AEIOUaeiou':\n",
    "        v+=1\n",
    "    if i==' ':\n",
    "        s+=1\n",
    "print('words',(s+1))\n",
    "print('char',(len(s1)))\n",
    "print('vowels',v)"
   ]
  },
  {
   "cell_type": "code",
   "execution_count": 29,
   "id": "ef6b494e",
   "metadata": {},
   "outputs": [
    {
     "name": "stdout",
     "output_type": "stream",
     "text": [
      "Compound Interest: 520.4040160000004\n",
      "Total Amount: 5520.404016\n"
     ]
    }
   ],
   "source": [
    "#simple interest and compound interest\n",
    "p=int(input(\"principal amount\"))\n",
    "t=int(input(\"time\"))\n",
    "r=int(input(\"rate\"))\n",
    "t1=input().lower()\n",
    "if t1 == 'compound':\n",
    "    amount = p * (1 + (r / 100)) ** t\n",
    "    ci = amount - p\n",
    "    print(\"Compound Interest:\", ci)\n",
    "    print(\"Total Amount:\", amount)\n",
    "else:\n",
    "    si = (p * t * r) / 100\n",
    "    print(\"Simple Interest:\", si)\n",
    "    print(\"Total Amount:\", p + si)\n"
   ]
  },
  {
   "cell_type": "code",
   "execution_count": null,
   "id": "9e691219",
   "metadata": {},
   "outputs": [
    {
     "name": "stdout",
     "output_type": "stream",
     "text": [
      "Encrypted: KHOOR\n"
     ]
    }
   ],
   "source": [
    "#ENCRYPTION\n",
    "s = input(\"Enter text: \")\n",
    "shift = int(input(\"Enter shift: \"))\n",
    "e= \"\"\n",
    "for i in s:\n",
    "    if i.isupper():\n",
    "        e+= chr((ord(i) - 65 + shift) % 26 + 65)\n",
    "    elif i.islower():  \n",
    "        e += chr((ord(i) - 97 + shift) % 26 + 97)\n",
    "    else:\n",
    "        e += i\n",
    "print(\"Encrypted:\", e)\n"
   ]
  }
 ],
 "metadata": {
  "kernelspec": {
   "display_name": "Python 3",
   "language": "python",
   "name": "python3"
  },
  "language_info": {
   "codemirror_mode": {
    "name": "ipython",
    "version": 3
   },
   "file_extension": ".py",
   "mimetype": "text/x-python",
   "name": "python",
   "nbconvert_exporter": "python",
   "pygments_lexer": "ipython3",
   "version": "3.11.0"
  }
 },
 "nbformat": 4,
 "nbformat_minor": 5
}
