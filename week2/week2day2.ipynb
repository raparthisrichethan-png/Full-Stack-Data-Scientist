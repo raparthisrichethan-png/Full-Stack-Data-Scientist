{
 "cells": [
  {
   "cell_type": "code",
   "execution_count": 26,
   "id": "f310d2ba",
   "metadata": {},
   "outputs": [
    {
     "name": "stdout",
     "output_type": "stream",
     "text": [
      "5\n"
     ]
    }
   ],
   "source": [
    "# Problem: Given a text file, count the total number of words.\n",
    "def count_words(file_path):\n",
    "    try:\n",
    "        with open(file_path, 'r') as file:\n",
    "            text = file.read()\n",
    "            words = text.split()\n",
    "            return len(words)\n",
    "    except FileNotFoundError:\n",
    "        print(f\"The file at {file_path} was not found.\")\n",
    "        return 0\n",
    "print(count_words(\"C:\\\\Users\\\\Sri Chethan\\\\OneDrive\\\\Desktop\\\\66b6\\\\week2\\\\day2\\\\hello.txt\"))"
   ]
  },
  {
   "cell_type": "code",
   "execution_count": 24,
   "id": "b71902dd",
   "metadata": {},
   "outputs": [
    {
     "name": "stdout",
     "output_type": "stream",
     "text": [
      "True\n"
     ]
    }
   ],
   "source": [
    "#check if a password is strong (at least 8 characters, contains uppercase, lowercase, digit, and special char\n",
    "def check(password):\n",
    "    if len(password)>=8:\n",
    "        if any(x.isupper() for x in password):\n",
    "            if any(x.islower() for x in password):\n",
    "                if any(x.isdigit() for x in password):\n",
    "                    if any(x in '@#$' for x in password):\n",
    "                        return True\n",
    "    return False\n",
    "print(check('Srichethan@18'))"
   ]
  },
  {
   "cell_type": "code",
   "execution_count": 25,
   "id": "b49b70e1",
   "metadata": {},
   "outputs": [
    {
     "ename": "ValueError",
     "evalue": "invalid literal for int() with base 10: '9.0'",
     "output_type": "error",
     "traceback": [
      "\u001b[1;31m---------------------------------------------------------------------------\u001b[0m",
      "\u001b[1;31mValueError\u001b[0m                                Traceback (most recent call last)",
      "Cell \u001b[1;32mIn[25], line 2\u001b[0m\n\u001b[0;32m      1\u001b[0m \u001b[38;5;66;03m# Problem: Implement a calculator with +, -, *, / operations.\u001b[39;00m\n\u001b[1;32m----> 2\u001b[0m a,b\u001b[38;5;241m=\u001b[39m\u001b[38;5;28mmap\u001b[39m(\u001b[38;5;28mint\u001b[39m,\u001b[38;5;28minput\u001b[39m()\u001b[38;5;241m.\u001b[39msplit())\n\u001b[0;32m      3\u001b[0m \u001b[38;5;28mprint\u001b[39m({\u001b[38;5;241m1\u001b[39m:\u001b[38;5;124m'\u001b[39m\u001b[38;5;124m+\u001b[39m\u001b[38;5;124m'\u001b[39m,\u001b[38;5;241m2\u001b[39m:\u001b[38;5;124m'\u001b[39m\u001b[38;5;124m-\u001b[39m\u001b[38;5;124m'\u001b[39m,\u001b[38;5;241m3\u001b[39m:\u001b[38;5;124m'\u001b[39m\u001b[38;5;124m*\u001b[39m\u001b[38;5;124m'\u001b[39m,\u001b[38;5;241m4\u001b[39m:\u001b[38;5;124m'\u001b[39m\u001b[38;5;124m/\u001b[39m\u001b[38;5;124m'\u001b[39m})\n\u001b[0;32m      4\u001b[0m x\u001b[38;5;241m=\u001b[39m\u001b[38;5;28mint\u001b[39m(\u001b[38;5;28minput\u001b[39m())\n",
      "\u001b[1;31mValueError\u001b[0m: invalid literal for int() with base 10: '9.0'"
     ]
    }
   ],
   "source": [
    "# Problem: Implement a calculator with +, -, *, / operations.\n",
    "a,b=map(int,input().split())\n",
    "print({1:'+',2:'-',3:'*',4:'/'})\n",
    "x=int(input())\n",
    "if x==1:\n",
    "    print(a+b)\n",
    "elif x==2:\n",
    "    print(a-b)\n",
    "elif x==3:\n",
    "    print(a*b)\n",
    "else:\n",
    "    print(a/b)\n"
   ]
  },
  {
   "cell_type": "code",
   "execution_count": null,
   "id": "f95ff233",
   "metadata": {},
   "outputs": [
    {
     "name": "stdout",
     "output_type": "stream",
     "text": [
      "s h "
     ]
    }
   ],
   "source": [
    "#Problem: Given a list of student names, find duplicates.\n",
    "l=list(map(str,input().split()))\n",
    "d={}\n",
    "for i in l:\n",
    "    if i in d:\n",
    "        print(i,end=' ')\n",
    "    else:\n",
    "        d[i]=1"
   ]
  },
  {
   "cell_type": "code",
   "execution_count": null,
   "id": "d6eb5bca",
   "metadata": {},
   "outputs": [
    {
     "name": "stdout",
     "output_type": "stream",
     "text": [
      "122.0\n"
     ]
    }
   ],
   "source": [
    "#Convert between Celsius and Fahrenheit.\n",
    "c=int(input())\n",
    "f=(c*9/5)+32\n",
    "print(f)"
   ]
  },
  {
   "cell_type": "code",
   "execution_count": null,
   "id": "ef37103b",
   "metadata": {},
   "outputs": [
    {
     "name": "stdout",
     "output_type": "stream",
     "text": [
      "9\n"
     ]
    }
   ],
   "source": [
    "#Find the largest number from a list of integers.\n",
    "l=list(map(int,input().split()))\n",
    "print(max(l))"
   ]
  },
  {
   "cell_type": "code",
   "execution_count": null,
   "id": "6b454143",
   "metadata": {},
   "outputs": [
    {
     "name": "stdout",
     "output_type": "stream",
     "text": [
      "2000.0\n"
     ]
    }
   ],
   "source": [
    "#Calculate Simple Interest\n",
    "p,r,t=map(int,input().split())\n",
    "si=(p*r*t)/100  \n",
    "print(si)"
   ]
  },
  {
   "cell_type": "code",
   "execution_count": null,
   "id": "813a7bac",
   "metadata": {},
   "outputs": [
    {
     "name": "stdout",
     "output_type": "stream",
     "text": [
      "chethan kumar "
     ]
    }
   ],
   "source": [
    "#Given a dictionary of student names and attendance %, find defaulters (<75%).\n",
    "d={'sri':80,'chethan':70,'kumar':60,'nani':90}\n",
    "for i in d:\n",
    "    if d[i]<75:\n",
    "        print(i,end=' ')\n",
    "        print(d[i],end=' ')"
   ]
  },
  {
   "cell_type": "code",
   "execution_count": null,
   "id": "0dbf2eb8",
   "metadata": {},
   "outputs": [
    {
     "name": "stdout",
     "output_type": "stream",
     "text": [
      "10\n"
     ]
    }
   ],
   "source": [
    "#Sum of digits of a number.\n",
    "n=int(input())\n",
    "s=0\n",
    "while n>0:\n",
    "    r=n%10\n",
    "    s+=r\n",
    "    n=n//10\n",
    "print(s)\n"
   ]
  },
  {
   "cell_type": "code",
   "execution_count": null,
   "id": "14cc51d7",
   "metadata": {},
   "outputs": [
    {
     "name": "stdout",
     "output_type": "stream",
     "text": [
      "True\n"
     ]
    }
   ],
   "source": [
    "#Write a function to check if a number is prime\n",
    "def is_prime(n):\n",
    "    if n<=1:\n",
    "        return False\n",
    "    for i in range(2,int(n**0.5)+1):\n",
    "        if n%i==0:\n",
    "            return False\n",
    "    return True\n",
    "print(is_prime(11))"
   ]
  },
  {
   "cell_type": "code",
   "execution_count": null,
   "id": "1182ae3d",
   "metadata": {},
   "outputs": [
    {
     "name": "stdout",
     "output_type": "stream",
     "text": [
      "1 23\n"
     ]
    }
   ],
   "source": [
    "#Find smallest and largest numbers from a list.\n",
    "l=list(map(int,input().split()))\n",
    "print(min(l),max(l))"
   ]
  },
  {
   "cell_type": "code",
   "execution_count": null,
   "id": "6cc86db9",
   "metadata": {},
   "outputs": [
    {
     "name": "stdout",
     "output_type": "stream",
     "text": [
      "{'apple': 100, 'banana': 20, 'orange': 30}\n",
      "150\n"
     ]
    }
   ],
   "source": [
    "# Given items with prices in a dictionary, calculate total bill.\n",
    "items={'banana':20,'orange':30,'apple':100}\n",
    "print(items)\n",
    "total=0 \n",
    "for i in items:\n",
    "    total+=items[i]\n",
    "print(total)"
   ]
  },
  {
   "cell_type": "code",
   "execution_count": null,
   "id": "add73f5a",
   "metadata": {},
   "outputs": [
    {
     "name": "stdout",
     "output_type": "stream",
     "text": [
      "3\n"
     ]
    }
   ],
   "source": [
    "# Input 3 numbers, print the largest.\n",
    "a,b,c=map(int,input().split())\n",
    "if a>b and a>c:\n",
    "    print(a)\n",
    "elif b>a and b>c:\n",
    "    print(b)\n",
    "else:\n",
    "    print(c)"
   ]
  },
  {
   "cell_type": "code",
   "execution_count": null,
   "id": "52c07d75",
   "metadata": {},
   "outputs": [
    {
     "name": "stdout",
     "output_type": "stream",
     "text": [
      "s 1\n",
      "r 1\n",
      "i 1\n"
     ]
    }
   ],
   "source": [
    "#count how many times each character appears in a string\n",
    "s=input()\n",
    "d={}\n",
    "for c in s:\n",
    "    if c in d:\n",
    "        d[c]+=1\n",
    "    else:\n",
    "        d[c]=1\n",
    "for k,v in d.items():\n",
    "    print(k,v)"
   ]
  },
  {
   "cell_type": "code",
   "execution_count": null,
   "id": "3352bb46",
   "metadata": {},
   "outputs": [],
   "source": [
    "#Calculate electricity bill:First 100 units → ₹5/unit Next 100 units → ₹7/unit Above 200 units → ₹10/unit\n",
    "def cal(units):\n",
    "    if units<=100:\n",
    "        bill=units*5\n",
    "    elif units<=200:\n",
    "        bill=100*5+(units-100)*7\n",
    "    else:\n",
    "        bill=100*5+100*7+(units-200)*10\n",
    "    return bill"
   ]
  },
  {
   "cell_type": "code",
   "execution_count": null,
   "id": "caa9d76c",
   "metadata": {},
   "outputs": [
    {
     "name": "stdout",
     "output_type": "stream",
     "text": [
      "['a', 'b', 'hii', 'sai', 'sri', 'z']\n"
     ]
    }
   ],
   "source": [
    "#Sort a list of names in ascending order.\n",
    "l=list(map(str,input().split()))\n",
    "l.sort() \n",
    "print(l)"
   ]
  },
  {
   "cell_type": "code",
   "execution_count": null,
   "id": "f76f26c2",
   "metadata": {},
   "outputs": [
    {
     "name": "stdout",
     "output_type": "stream",
     "text": [
      "2 1 1\n"
     ]
    }
   ],
   "source": [
    "#Given a list, count positive, negative, and zero numbers\n",
    "l=list(map(int,input().split()))\n",
    "pos=0\n",
    "neg=0\n",
    "zero=0\n",
    "for i in l:\n",
    "    if i>0:\n",
    "        pos+=1\n",
    "    elif i<0:\n",
    "        neg+=1\n",
    "    else:\n",
    "        zero+=1\n",
    "print(pos,neg,zero)"
   ]
  },
  {
   "cell_type": "code",
   "execution_count": null,
   "id": "1f0a9def",
   "metadata": {},
   "outputs": [
    {
     "name": "stdout",
     "output_type": "stream",
     "text": [
      "4321\n"
     ]
    }
   ],
   "source": [
    "#1234 → Output: 4321\n",
    "n=int(input())\n",
    "rev=0\n",
    "while n>0:\n",
    "    r=n%10\n",
    "    rev=rev*10+r\n",
    "    n=n//10\n",
    "print(rev)"
   ]
  },
  {
   "cell_type": "code",
   "execution_count": null,
   "id": "f02f63ee",
   "metadata": {},
   "outputs": [
    {
     "name": "stdout",
     "output_type": "stream",
     "text": [
      "Incorrect PIN\n",
      "Incorrect PIN\n",
      "Incorrect PIN\n",
      "Access denied\n"
     ]
    }
   ],
   "source": [
    "#User has 3 attempts to enter correct PIN\n",
    "pin = 1234\n",
    "attempts = 0\n",
    "while attempts < 3:\n",
    "    user_input = int(input(\"Enter PIN: \"))\n",
    "    if user_input == pin:\n",
    "        print(\"Access granted\")\n",
    "        break\n",
    "    else:\n",
    "        print(\"Incorrect PIN\")\n",
    "        attempts += 1\n",
    "if attempts == 3:\n",
    "    print(\"Access denied\")"
   ]
  },
  {
   "cell_type": "code",
   "execution_count": null,
   "id": "279ea3ac",
   "metadata": {},
   "outputs": [
    {
     "name": "stdout",
     "output_type": "stream",
     "text": [
      "Division by zero is not allowed.\n"
     ]
    }
   ],
   "source": [
    "#Write a program that asks for two numbers and divides them. Handle division by zero.\n",
    "a,b=map(int,input().split())\n",
    "try:   \n",
    "    print(a/b) \n",
    "except ZeroDivisionError:\n",
    "    print(\"Division by zero is not allowed.\")"
   ]
  },
  {
   "cell_type": "code",
   "execution_count": 10,
   "id": "aeb549a0",
   "metadata": {},
   "outputs": [
    {
     "name": "stdout",
     "output_type": "stream",
     "text": [
      "Invalid input. Please enter numbers only.\n"
     ]
    }
   ],
   "source": [
    "#Write a program that handles both ValueError (invalid input) and ZeroDivisionErro\n",
    "try:    \n",
    "    a,b=map(int,input().split())\n",
    "    print(a/b)\n",
    "except(ZeroDivisionError):  \n",
    "    print(\"Division by zero is not allowed.\")\n",
    "except(ValueError):\n",
    "    print(\"Invalid input. Please enter numbers only.\")  "
   ]
  },
  {
   "cell_type": "code",
   "execution_count": 11,
   "id": "5d166bcc",
   "metadata": {},
   "outputs": [
    {
     "name": "stdout",
     "output_type": "stream",
     "text": [
      "Insufficient balance\n"
     ]
    }
   ],
   "source": [
    "b=1000\n",
    "n=int(input(\" \"))\n",
    "if n>b:\n",
    "    print(\"Insufficient balance\")\n",
    "else:\n",
    "    b-=n\n",
    "    print(\"Balance:\",b)"
   ]
  }
 ],
 "metadata": {
  "kernelspec": {
   "display_name": "base",
   "language": "python",
   "name": "python3"
  },
  "language_info": {
   "codemirror_mode": {
    "name": "ipython",
    "version": 3
   },
   "file_extension": ".py",
   "mimetype": "text/x-python",
   "name": "python",
   "nbconvert_exporter": "python",
   "pygments_lexer": "ipython3",
   "version": "3.11.7"
  }
 },
 "nbformat": 4,
 "nbformat_minor": 5
}
