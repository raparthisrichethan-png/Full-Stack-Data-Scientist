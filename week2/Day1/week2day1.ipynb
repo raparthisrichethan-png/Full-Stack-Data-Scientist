{
 "cells": [
  {
   "cell_type": "code",
   "execution_count": 4,
   "id": "b8c1f719",
   "metadata": {},
   "outputs": [
    {
     "name": "stdout",
     "output_type": "stream",
     "text": [
      "0 1 1 2 3 5 8 "
     ]
    }
   ],
   "source": [
    "#Fibonacci Generator\n",
    "def fib(n):\n",
    "    a=0\n",
    "    b=1\n",
    "    next=a+b\n",
    "    print(a,b,next,end=' ')\n",
    "    for i in range(3,n):\n",
    "        a=b\n",
    "        b=next\n",
    "        next=a+b\n",
    "        print(next,end=' ')\n",
    "fib(7)"
   ]
  },
  {
   "cell_type": "code",
   "execution_count": 6,
   "id": "23b70769",
   "metadata": {},
   "outputs": [
    {
     "name": "stdout",
     "output_type": "stream",
     "text": [
      "120\n"
     ]
    }
   ],
   "source": [
    "#factorial using recursion\n",
    "def fact(n):\n",
    "    if n==0:\n",
    "        return 1\n",
    "    else:\n",
    "        return n*fact(n-1)\n",
    "print(fact(5))"
   ]
  },
  {
   "cell_type": "code",
   "execution_count": 10,
   "id": "c4fa172d",
   "metadata": {},
   "outputs": [
    {
     "name": "stdout",
     "output_type": "stream",
     "text": [
      "Counter({'apple': 2, 'banana': 2, 'orange': 1})\n"
     ]
    }
   ],
   "source": [
    "#Unique Words Counter\n",
    "from collections import Counter\n",
    "def unique(s):\n",
    "    s=s.split()\n",
    "    return Counter(s)\n",
    "s='apple banana apple orange banana'\n",
    "print(unique(s))"
   ]
  },
  {
   "cell_type": "code",
   "execution_count": 12,
   "id": "8c9a3365",
   "metadata": {},
   "outputs": [
    {
     "name": "stdout",
     "output_type": "stream",
     "text": [
      "A\n"
     ]
    }
   ],
   "source": [
    "#Grade Calculator\n",
    "def calculate_grade(marks):\n",
    "    average = sum(marks) / len(marks)\n",
    "    if average >= 90:\n",
    "        grade = \"A+\"\n",
    "    elif average >= 80:\n",
    "        grade = \"A\"\n",
    "    elif average >= 70:\n",
    "        grade = \"B\"\n",
    "    elif average >= 60:\n",
    "        grade = \"C\"\n",
    "    elif average >= 50:\n",
    "        grade = \"D\"\n",
    "    else:\n",
    "        grade = \"F\"\n",
    "    return grade\n",
    "l=[85,90,78]\n",
    "print(calculate_grade(l))"
   ]
  },
  {
   "cell_type": "code",
   "execution_count": 13,
   "id": "b2b0f088",
   "metadata": {},
   "outputs": [],
   "source": [
    "def second_largest(numbers):\n",
    "    u = list(set(numbers))\n",
    "    if len(u) < 2:\n",
    "        return \"Not enough unique numbers.\"\n",
    "    u.sort(reverse=True)\n",
    "    return u[1]\n"
   ]
  },
  {
   "cell_type": "code",
   "execution_count": 17,
   "id": "d796f17b",
   "metadata": {},
   "outputs": [
    {
     "name": "stdout",
     "output_type": "stream",
     "text": [
      ".txt files: 0\n",
      ".py files: 0\n"
     ]
    }
   ],
   "source": [
    "#Count Files by Extension\n",
    "import os\n",
    "def count_files():\n",
    "    txt_count = 0\n",
    "    py_count = 0\n",
    "    for f in os.listdir('.'):\n",
    "        if os.path.isfile(f):\n",
    "            if f.endswith('.txt'):\n",
    "                txt_count += 1\n",
    "            elif f.endswith('.py'):\n",
    "                py_count += 1\n",
    "    print(f\".txt files: {txt_count}\")\n",
    "    print(f\".py files: {py_count}\")\n",
    "count_files()"
   ]
  },
  {
   "cell_type": "code",
   "execution_count": null,
   "id": "9011c1fb",
   "metadata": {},
   "outputs": [],
   "source": [
    "import statistics\n",
    "s = [75, 80, 90, 100, 85, 90, 95]\n",
    "mean = statistics.mean(s)\n",
    "median = statistics.median(s)\n",
    "variance = statistics.variance(s)\n",
    "print(f\"Mean = {round(mean, 2)}\")\n",
    "print(f\"Median = {round(median, 2)}\")\n",
    "print(f\"Variance = {round(variance, 2)}\")\n"
   ]
  },
  {
   "cell_type": "code",
   "execution_count": 18,
   "id": "657e056a",
   "metadata": {},
   "outputs": [
    {
     "name": "stdout",
     "output_type": "stream",
     "text": [
      "Roots are: 2.0 and 1.0\n"
     ]
    }
   ],
   "source": [
    "import math\n",
    "def solve_quadratic(a, b, c):\n",
    "    if a == 0:\n",
    "        return \"Not a quadratic\"\n",
    "    discriminant = b**2 - 4*a*c\n",
    "    if discriminant > 0:\n",
    "        root1 = (-b + math.sqrt(discriminant)) / (2*a)\n",
    "        root2 = (-b - math.sqrt(discriminant)) / (2*a)\n",
    "        return f\"Roots are: {round(root1, 2)} and {round(root2, 2)}\"\n",
    "    elif discriminant == 0:\n",
    "        root = -b / (2*a)\n",
    "        return f\"Root is: {round(root, 2)}\"\n",
    "    else:\n",
    "        return \"No\"\n",
    "a, b, c = 1, -3, 2\n",
    "print(solve_quadratic(a, b, c))\n"
   ]
  },
  {
   "cell_type": "code",
   "execution_count": 19,
   "id": "d04c20bf",
   "metadata": {},
   "outputs": [
    {
     "name": "stdout",
     "output_type": "stream",
     "text": [
      "You chose Rock, Computer chose Paper\n",
      "You Lose!\n"
     ]
    }
   ],
   "source": [
    "import random\n",
    "def play_rps():\n",
    "    options = ['Rock', 'Paper', 'Scissors']\n",
    "    user = input(\"Choose Rock, Paper, or Scissors: \").capitalize()\n",
    "    if user not in options:\n",
    "        return\n",
    "    computer = random.choice(options)\n",
    "    print(f\"You chose {user}, Computer chose {computer}\")\n",
    "    if user == computer:\n",
    "        print(\"It's a Tie!\")\n",
    "    elif (user == 'Rock' and computer == 'Scissors') or \\\n",
    "         (user == 'Scissors' and computer == 'Paper') or \\\n",
    "         (user == 'Paper' and computer == 'Rock'):\n",
    "        print(\"You Win!\")\n",
    "    else:\n",
    "        print(\"You Lose!\")\n",
    "play_rps()\n"
   ]
  },
  {
   "cell_type": "code",
   "execution_count": 20,
   "id": "de72f403",
   "metadata": {},
   "outputs": [
    {
     "name": "stdout",
     "output_type": "stream",
     "text": [
      "Usage: python add.py num1 num2 num3\n"
     ]
    }
   ],
   "source": [
    "import sys\n",
    "if len(sys.argv) != 4:\n",
    "    print(\"Usage: python add.py num1 num2 num3\")\n",
    "else:\n",
    "    try:\n",
    "        num1 = int(sys.argv[1])\n",
    "        num2 = int(sys.argv[2])\n",
    "        num3 = int(sys.argv[3])\n",
    "        total = num1 + num2 + num3\n",
    "        print(\"Sum =\", total)\n",
    "    except ValueError:\n",
    "        print(\"Please enter valid numbers.\")\n"
   ]
  },
  {
   "cell_type": "code",
   "execution_count": 21,
   "id": "647882df",
   "metadata": {},
   "outputs": [],
   "source": [
    "class Library:\n",
    "    def __init__(self, books):\n",
    "        self.books = books\n",
    "    def borrow(self, title):\n",
    "        if title in self.books and self.books[title] > 0:\n",
    "            self.books[title] -= 1\n",
    "            return f\"You borrowed {title}\"\n",
    "        elif title in self.books:\n",
    "            return f\"Sorry, {title} is currently out of stock.\"\n",
    "        else:\n",
    "            return f\"{title} not found in library.\"\n",
    "\n",
    "    def return_book(self, title):\n",
    "        if title in self.books:\n",
    "            self.books[title] += 1\n",
    "        else:\n",
    "            self.books[title] = 1  # Add new title to library\n",
    "        return f\"You returned {title}\"\n",
    "\n",
    "    def show_books(self):\n",
    "        print(\"Available books:\")\n",
    "        for title, count in self.books.items():\n",
    "            print(f\"{title} → {count} copies\")\n"
   ]
  },
  {
   "cell_type": "code",
   "execution_count": 22,
   "id": "23eba166",
   "metadata": {},
   "outputs": [],
   "source": [
    "class ATM:\n",
    "    def __init__(self, pin, balance=0):\n",
    "        self.pin = pin\n",
    "        self.balance = balance\n",
    "        self.is_authenticated = False\n",
    "\n",
    "    def login(self, entered_pin):\n",
    "        if entered_pin == self.pin:\n",
    "            self.is_authenticated = True\n",
    "            return \"Access Granted\"\n",
    "        else:\n",
    "            return \"Invalid PIN\"\n",
    "\n",
    "    def check_balance(self):\n",
    "        if self.is_authenticated:\n",
    "            return f\"Balance: {self.balance}\"\n",
    "        return \"Access Denied. Please login first.\"\n",
    "\n",
    "    def deposit(self, amount):\n",
    "        if self.is_authenticated:\n",
    "            self.balance += amount\n",
    "            return f\"Deposited {amount}\"\n",
    "        return \"Access Denied. Please login first.\"\n",
    "\n",
    "    def withdraw(self, amount):\n",
    "        if self.is_authenticated:\n",
    "            if amount > self.balance:\n",
    "                return \"Insufficient Balance\"\n",
    "            self.balance -= amount\n",
    "            return f\"Withdrew {amount}\"\n",
    "        return \"Access Denied. Please login first.\"\n"
   ]
  },
  {
   "cell_type": "code",
   "execution_count": null,
   "id": "bbae02e2",
   "metadata": {},
   "outputs": [],
   "source": [
    "class Professor:\n",
    "    def __init__(self, name, subject):\n",
    "        self.name = name\n",
    "        self.subject = subject\n",
    "\n",
    "    def teach(self, course):\n",
    "        return f\"{self.name} is teaching {course}\"\n",
    "\n",
    "    def give_assignment(self, task):\n",
    "        return f\"{self.name} assigned: {task}\"\n",
    "\n",
    "\n",
    "class Student:\n",
    "    def __init__(self, name):\n",
    "        self.name = name\n",
    "        self.courses = []\n",
    "        self.assignments = []\n",
    "\n",
    "    def enroll(self, course):\n",
    "        self.courses.append(course)\n",
    "        return f\"{self.name} enrolled in {course}\"\n",
    "\n",
    "    def submit_assignment(self, task):\n",
    "        self.assignments.append(task)\n",
    "        return f\"{self.name} submitted: {task}\"\n"
   ]
  },
  {
   "cell_type": "code",
   "execution_count": null,
   "id": "c6dba78d",
   "metadata": {},
   "outputs": [],
   "source": [
    "class Cinema:\n",
    "    def __init__(self, movies):\n",
    "        self.movies = movies  # Dictionary: {movie_name: available_seats}\n",
    "\n",
    "    def book(self, movie, seats):\n",
    "        if movie not in self.movies:\n",
    "            return f\"{movie} is not available.\"\n",
    "        if self.movies[movie] >= seats:\n",
    "            self.movies[movie] -= seats\n",
    "            return f\"Booked {seats} tickets for {movie}\"\n",
    "        else:\n",
    "            return f\"Only {self.movies[movie]} seats available for {movie}\"\n",
    "\n",
    "    def cancel(self, movie, seats):\n",
    "        if movie in self.movies:\n",
    "            self.movies[movie] += seats\n",
    "            return f\"Cancelled {seats} ticket{'s' if seats > 1 else ''} for {movie}\"\n",
    "        else:\n",
    "            return f\"{movie} is not in the system.\"\n",
    "\n",
    "    def show_movies(self):\n",
    "        print(f\"Movies: {self.movies}\")\n"
   ]
  },
  {
   "cell_type": "code",
   "execution_count": null,
   "id": "bb3c2531",
   "metadata": {},
   "outputs": [],
   "source": [
    "class Menu:\n",
    "    def __init__(self):\n",
    "        self.items = {}\n",
    "\n",
    "    def add_item(self, name, price):\n",
    "        if name in self.items:\n",
    "            return f\"{name} already exists.\"\n",
    "        self.items[name] = price\n",
    "        return f\"{name} added\"\n",
    "\n",
    "    def remove_item(self, name):\n",
    "        if name in self.items:\n",
    "            del self.items[name]\n",
    "            return f\"{name} removed\"\n",
    "        return f\"{name} not found\"\n",
    "\n",
    "    def update_price(self, name, new_price):\n",
    "        if name in self.items:\n",
    "            self.items[name] = new_price\n",
    "            return f\"{name} price updated to {new_price}\"\n",
    "        return f\"{name} not found\"\n",
    "\n",
    "    def show_menu(self):\n",
    "        print(f\"Menu: {self.items}\")\n"
   ]
  },
  {
   "cell_type": "code",
   "execution_count": null,
   "id": "4842f4ff",
   "metadata": {},
   "outputs": [],
   "source": []
  }
 ],
 "metadata": {
  "kernelspec": {
   "display_name": "base",
   "language": "python",
   "name": "python3"
  },
  "language_info": {
   "codemirror_mode": {
    "name": "ipython",
    "version": 3
   },
   "file_extension": ".py",
   "mimetype": "text/x-python",
   "name": "python",
   "nbconvert_exporter": "python",
   "pygments_lexer": "ipython3",
   "version": "3.11.7"
  }
 },
 "nbformat": 4,
 "nbformat_minor": 5
}
